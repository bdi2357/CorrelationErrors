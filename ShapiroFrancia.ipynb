{
 "cells": [
  {
   "cell_type": "code",
   "execution_count": 33,
   "metadata": {},
   "outputs": [],
   "source": [
    "import numpy as np\n",
    "import scipy as scp\n",
    "from scipy.stats import norm\n",
    "import pandas as pd\n",
    "import matplotlib.pyplot as  plt\n"
   ]
  },
  {
   "cell_type": "code",
   "execution_count": 2,
   "metadata": {},
   "outputs": [],
   "source": [
    "def taking_ith_order(A,n):\n",
    "    A.sort()\n",
    "    ln = len(A)\n",
    "    if n >= ln:\n",
    "        return A\n",
    "    k = int(ln/n)\n",
    "    return [A[k*ii] for ii in range(n)]"
   ]
  },
  {
   "cell_type": "code",
   "execution_count": 58,
   "metadata": {},
   "outputs": [],
   "source": [
    "def blom(i,n):\n",
    "    return norm.ppf((i - (3/8.))/(n+(1./4.)))\n",
    "def generate_nth_order(n):\n",
    "    A = np.array([blom(ii,n) for ii in range(1,n+1)])\n",
    "    A= A/(A.std())\n",
    "    return list(A)\n",
    "def ShapiroFranciaCorrelation(data,sz = None):\n",
    "    if not sz:\n",
    "        sz = len(data)\n",
    "    else:\n",
    "        data = taking_ith_order(data,n)\n",
    "    blm1 = generate_nth_order(sz)\n",
    "    data.sort()\n",
    "    #print(\"data mean %0.3f\"%np.array(data).mean())\n",
    "    #print(\"blm1 mean %0.3f\"%np.array(blm1).mean())\n",
    "    #print(\"data dot blm1 %0.3f\"%np.dot(data,blm1).mean())\n",
    "    #print(\"data corr blm1 %0.3f\"%np.corrcoef(data,blm1)[0,1])\n",
    "    return np.corrcoef(data,blm1)[0,1]\n",
    "def ShapiroFranciaDecomposition(data,sz = None):\n",
    "    data_std = np.array(data).std()\n",
    "    #print(\"data std is %0.4f\"%data_std)\n",
    "    data = list(np.array(data)*(1./data_std))\n",
    "    data_c = list(enumerate(data))\n",
    "    data_c.sort(key = lambda x: x[1])\n",
    "    \n",
    "    crl = ShapiroFranciaCorrelation(data,sz)\n",
    "    blm =  generate_nth_order(len(data))\n",
    "    #crl2 = np.dot(data,blm)/len(data)\n",
    "    #print(\"crl : %0.4f, crl2 : %0.4f\"%(crl,crl2))\n",
    "    #crl = crl2\n",
    "    #print(\"blm norm %0.3f\"%(sum(np.array(blm)**2)/len(blm)))\n",
    "    #print(\"data norm %0.3f\"%(sum(np.array(data)**2)/len(data)))\n",
    "    #print(\"correlation %0.3f\"%crl)\n",
    "    res = [(data_c[ii][0],data_c[ii][1] - crl*blm[ii] ) for ii in range(len(data))]\n",
    "    normal_part = [(data_c[ii][0],crl*blm[ii] ) for ii in range(len(data))]\n",
    "    res_f = [0 for ii in  range(len(data))]\n",
    "    normal_f = [0 for ii in  range(len(data))]\n",
    "    for x in normal_part:\n",
    "        normal_f[x[0]] = x[1]\n",
    "    for x in res:\n",
    "        res_f[x[0]] = x[1]\n",
    "    \n",
    "    print(\"means:\",np.array(normal_f).mean(),np.array(res_f).mean())\n",
    "    print(\"norms:\",sum(np.array(normal_f)**2)/len(normal_f),sum(np.array(res_f)**2)/len(res_f))\n",
    "    print(\"dot prod: %0.3f\"%np.dot(np.array(normal_f),np.array(res_f)))\n",
    "    print(\"test sum %0.4f\"%sum(np.array(normal_f)*data_std + np.array(res_f)*data_std - np.array(sorted(data))))\n",
    "    return np.array(normal_f)*data_std,np.array(res_f)*data_std\n",
    "    \n",
    "    "
   ]
  },
  {
   "cell_type": "code",
   "execution_count": 59,
   "metadata": {},
   "outputs": [],
   "source": [
    "def correlation_breakdown(x,y):\n",
    "    \n",
    "    x = np.array(x)\n",
    "    y = np.array(y)\n",
    "    x_n = (x-np.mean(x))/np.std(x)\n",
    "    y_n = (y-np.mean(y))/np.std(y)\n",
    "    print(sum(x_n**2)/x_n.shape[0])\n",
    "    print(sum(y_n**2)/y_n.shape[0])\n",
    "    corr_coef = np.corrcoef(x_n,y_n)[0,1]\n",
    "    \n",
    "    corr_error = x_n - corr_coef*y_n\n",
    "    print(\"correlation error decomposition %0.4f\" %(sum(corr_error**2)/corr_error.shape[0] + corr_coef**2))\n",
    "    n = 100000\n",
    "    \n",
    "    \n",
    "    \n",
    "    normal_f,non_normal_f =  ShapiroFranciaDecomposition(corr_error)\n",
    "    return corr_coef,normal_f,non_normal_f\n",
    "def correlation_analysis(x,y):\n",
    "    corr_coef,normal_f,non_normal_f = correlation_breakdown(x,y)\n",
    "    print(corr_coef)\n",
    "    print(sum(normal_f**2)/normal_f.shape[0])\n",
    "    print(sum(non_normal_f**2)/non_normal_f.shape[0])\n",
    "    print(sum(normal_f),sum(non_normal_f))\n",
    "    print(sum(normal_f**2)/normal_f.shape[0]+corr_coef**2+sum(non_normal_f**2)/non_normal_f.shape[0] )\n",
    "    \n",
    "    \n",
    "\n"
   ]
  },
  {
   "cell_type": "code",
   "execution_count": 60,
   "metadata": {},
   "outputs": [],
   "source": [
    "spy_pv = pd.read_csv(\"/Users/itaybendan/DirectIndexingBondIt/data/index_data/SPY.csv\")\n",
    "xom_pv = pd.read_csv(\"/Users/itaybendan/DirectIndexingBondIt/data/PriceVolume/XOM.csv\")\n",
    "amzn_pv = pd.read_csv(\"/Users/itaybendan/DirectIndexingBondIt/data/PriceVolume/AMZN.csv\")\n",
    "msft_pv = pd.read_csv(\"/Users/itaybendan/DirectIndexingBondIt/data/PriceVolume/MSFT.csv\")"
   ]
  },
  {
   "cell_type": "code",
   "execution_count": 61,
   "metadata": {},
   "outputs": [],
   "source": [
    "k =4000\n",
    "spy_returns  = spy_pv[\"Adjusted_close\"].pct_change()[-k:]\n",
    "xom_returns  = xom_pv[\"Adjusted_close\"].pct_change()[-k:]\n",
    "amzn_returns  = amzn_pv[\"Adjusted_close\"].pct_change()[-k:]"
   ]
  },
  {
   "cell_type": "code",
   "execution_count": 62,
   "metadata": {},
   "outputs": [
    {
     "data": {
      "text/plain": [
       "((10000, 3), Index(['Gender', 'Height', 'Weight'], dtype='object'))"
      ]
     },
     "execution_count": 62,
     "metadata": {},
     "output_type": "execute_result"
    }
   ],
   "source": [
    "weight_height = pd.read_csv(\"data/weight-height.csv\")\n",
    "weight_height.shape, weight_height.columns"
   ]
  },
  {
   "cell_type": "code",
   "execution_count": 63,
   "metadata": {},
   "outputs": [
    {
     "data": {
      "text/plain": [
       "(5000, 3)"
      ]
     },
     "execution_count": 63,
     "metadata": {},
     "output_type": "execute_result"
    }
   ],
   "source": [
    "male_weight_height = weight_height[weight_height[\"Gender\"] == \"Male\"]\n",
    "male_weight_height.shape"
   ]
  },
  {
   "cell_type": "code",
   "execution_count": 64,
   "metadata": {},
   "outputs": [
    {
     "name": "stdout",
     "output_type": "stream",
     "text": [
      "1.0000000000000016\n",
      "0.9999999999999969\n",
      "correlation error decomposition 1.0000\n",
      "means: 3.552713678800501e-18 1.961830697894129e-15\n",
      "norms: 0.9995072649498307 0.000492735050168074\n",
      "dot prod: -0.000\n",
      "test sum -0.0000\n",
      "0.8629788486163174\n",
      "0.2551417275930642\n",
      "0.00012577924778950838\n",
      "-2.2849777625566503e-14 4.957210857081673e-12\n",
      "0.9999999999999986\n"
     ]
    }
   ],
   "source": [
    "male_weight_height = male_weight_height.dropna()\n",
    "correlation_analysis(male_weight_height[\"Height\"],male_weight_height[\"Weight\"])"
   ]
  },
  {
   "cell_type": "code",
   "execution_count": 49,
   "metadata": {},
   "outputs": [
    {
     "name": "stdout",
     "output_type": "stream",
     "text": [
      "1.0000000000000007\n",
      "0.9999999999999981\n",
      "correlation error decomposition 1.0000\n"
     ]
    },
    {
     "data": {
      "image/png": "[encoded data removed]",
      "text/plain": [
       "<Figure size 432x288 with 1 Axes>"
      ]
     },
     "metadata": {
      "needs_background": "light"
     },
     "output_type": "display_data"
    },
    {
     "name": "stdout",
     "output_type": "stream",
     "text": [
      "data std is 0.7160\n",
      "data mean -0.000\n",
      "blm1 mean 0.000\n",
      "data dot blm1 3846.463\n",
      "data corr blm1 0.962\n",
      "crl : 0.9616, crl2 : 0.9616\n",
      "blm norm 1.000\n",
      "data norm 1.000\n",
      "correlation 0.962\n",
      "means: 2.6645352591003758e-18 -4.085620730620576e-17\n",
      "norms: 0.9247046123938304 0.0752953876061707\n",
      "dot prod: -0.000\n",
      "-1.6626700016786344e-12\n",
      "0.698122150093873\n",
      "0.474027130573645\n",
      "0.03859833297466267\n",
      "1.6028844918025698e-14 -1.30518859609019e-13\n",
      "0.9999999999999998\n"
     ]
    }
   ],
   "source": [
    "correlation_analysis(xom_returns,spy_returns)"
   ]
  },
  {
   "cell_type": "code",
   "execution_count": null,
   "metadata": {},
   "outputs": [],
   "source": [
    "#<x,y> = c\n",
    "#<(x-c*y),y> = <x,y> - c <y,y>\n"
   ]
  },
  {
   "cell_type": "code",
   "execution_count": 95,
   "metadata": {},
   "outputs": [
    {
     "data": {
      "text/plain": [
       "1.0000000000000016"
      ]
     },
     "execution_count": 95,
     "metadata": {},
     "output_type": "execute_result"
    }
   ],
   "source": [
    "mm =10000\n",
    "def generate_nth_order2(n):\n",
    "    A = np.array([blom(ii,n) for ii in range(1,n+1)])\n",
    "    A= A/(A.std())\n",
    "    return list(A)\n",
    "sum(np.array(generate_nth_order2(mm))**2)/mm"
   ]
  },
  {
   "cell_type": "code",
   "execution_count": 4,
   "metadata": {},
   "outputs": [
    {
     "data": {
      "text/plain": [
       "14"
      ]
     },
     "execution_count": 4,
     "metadata": {},
     "output_type": "execute_result"
    }
   ],
   "source": [
    "import numpy as np\n",
    "a = np.array([1,2,3])\n",
    "(a**2).sum()"
   ]
  },
  {
   "cell_type": "code",
   "execution_count": 4,
   "metadata": {},
   "outputs": [
    {
     "data": {
      "text/plain": [
       "[(0, 3), (2, 5), (1, 7)]"
      ]
     },
     "execution_count": 4,
     "metadata": {},
     "output_type": "execute_result"
    }
   ],
   "source": [
    "L = [3,7,5]\n",
    "L2 = list(enumerate(L))\n",
    "L2.sort(key = lambda x: x[1])\n",
    "L2"
   ]
  },
  {
   "cell_type": "code",
   "execution_count": 3,
   "metadata": {},
   "outputs": [
    {
     "data": {
      "image/png": "[encoded data removed]",
      "text/plain": [
       "<Figure size 432x288 with 1 Axes>"
      ]
     },
     "metadata": {
      "needs_background": "light"
     },
     "output_type": "display_data"
    }
   ],
   "source": [
    "import matplotlib.pyplot as  plt\n",
    "n = 100000\n",
    "N = [np.random.normal() for ii in range(n)]\n",
    "A=plt.hist(N, bins = int (n/100))\n",
    "plt.show()"
   ]
  },
  {
   "cell_type": "code",
   "execution_count": 6,
   "metadata": {},
   "outputs": [],
   "source": [
    "#random.Generator.standard_cauchy(size=None)\n",
    "#n = 100000\n",
    "Chy = np.random.default_rng().standard_cauchy(n)\n",
    "#Chy = Chy[(Chy>-25) & (Chy<25)] \n",
    "#A2=plt.hist(Chy, bins = int (n/100))\n",
    "#plt.show()"
   ]
  },
  {
   "cell_type": "code",
   "execution_count": 15,
   "metadata": {},
   "outputs": [
    {
     "data": {
      "text/plain": [
       "(100000,)"
      ]
     },
     "execution_count": 15,
     "metadata": {},
     "output_type": "execute_result"
    }
   ],
   "source": [
    "Chy.shape"
   ]
  },
  {
   "cell_type": "code",
   "execution_count": 32,
   "metadata": {},
   "outputs": [],
   "source": [
    "from scipy.stats import levy_l\n",
    "levy_samp = levy_l.rvs(size=100000)"
   ]
  },
  {
   "cell_type": "code",
   "execution_count": 39,
   "metadata": {},
   "outputs": [],
   "source": [
    "levy_samp = levy_samp - levy_samp.mean()"
   ]
  },
  {
   "cell_type": "code",
   "execution_count": 40,
   "metadata": {},
   "outputs": [
    {
     "data": {
      "image/png": "[encoded data removed]",
      "text/plain": [
       "<Figure size 432x288 with 1 Axes>"
      ]
     },
     "metadata": {
      "needs_background": "light"
     },
     "output_type": "display_data"
    }
   ],
   "source": [
    "L=plt.hist(levy_samp,histtype='stepfilled', alpha=0.2)\n",
    "plt.show()"
   ]
  },
  {
   "cell_type": "code",
   "execution_count": 38,
   "metadata": {},
   "outputs": [
    {
     "data": {
      "text/plain": [
       "-2137288.272897682"
      ]
     },
     "execution_count": 38,
     "metadata": {},
     "output_type": "execute_result"
    }
   ],
   "source": [
    "levy_samp.mean()"
   ]
  },
  {
   "cell_type": "code",
   "execution_count": 7,
   "metadata": {},
   "outputs": [],
   "source": [
    "N.sort()"
   ]
  },
  {
   "cell_type": "code",
   "execution_count": 8,
   "metadata": {},
   "outputs": [],
   "source": [
    "def taking_ith_order(A,n):\n",
    "    A.sort()\n",
    "    ln = len(A)\n",
    "    if n >= ln:\n",
    "        return A\n",
    "    k = int(ln/n)\n",
    "    return [A[k*ii] for ii in range(n)]\n",
    "        "
   ]
  },
  {
   "cell_type": "code",
   "execution_count": 9,
   "metadata": {},
   "outputs": [
    {
     "data": {
      "text/plain": [
       "-4.793640686706343"
      ]
     },
     "execution_count": 9,
     "metadata": {},
     "output_type": "execute_result"
    }
   ],
   "source": [
    "sum(taking_ith_order(N,10))"
   ]
  },
  {
   "cell_type": "code",
   "execution_count": 10,
   "metadata": {},
   "outputs": [
    {
     "data": {
      "image/png": "[encoded data removed]",
      "text/plain": [
       "<Figure size 432x288 with 1 Axes>"
      ]
     },
     "metadata": {
      "needs_background": "light"
     },
     "output_type": "display_data"
    }
   ],
   "source": [
    "Blom = plt.hist(generate_nth_order(1000),bins= 100)\n",
    "plt.show()"
   ]
  },
  {
   "cell_type": "code",
   "execution_count": 16,
   "metadata": {},
   "outputs": [],
   "source": [
    "blm1 = generate_nth_order(4000)"
   ]
  },
  {
   "cell_type": "code",
   "execution_count": 17,
   "metadata": {},
   "outputs": [],
   "source": [
    "n_samp = taking_ith_order(N,4000)"
   ]
  },
  {
   "cell_type": "code",
   "execution_count": 18,
   "metadata": {},
   "outputs": [
    {
     "data": {
      "text/plain": [
       "(4000, 4000)"
      ]
     },
     "execution_count": 18,
     "metadata": {},
     "output_type": "execute_result"
    }
   ],
   "source": [
    "len(blm1),len(n_samp)"
   ]
  },
  {
   "cell_type": "code",
   "execution_count": 19,
   "metadata": {},
   "outputs": [
    {
     "data": {
      "text/plain": [
       "array([[1.        , 0.99982637],\n",
       "       [0.99982637, 1.        ]])"
      ]
     },
     "execution_count": 19,
     "metadata": {},
     "output_type": "execute_result"
    }
   ],
   "source": [
    "np.corrcoef(blm1,n_samp)"
   ]
  },
  {
   "cell_type": "code",
   "execution_count": 20,
   "metadata": {},
   "outputs": [],
   "source": [
    "import pandas as pd\n",
    "spy_pv = pd.read_csv(\"/Users/itaybendan/DirectIndexingBondIt/data/index_data/SPY.csv\")\n",
    "xom_pv = pd.read_csv(\"/Users/itaybendan/DirectIndexingBondIt/data/PriceVolume/XOM.csv\")\n",
    "amzn_pv = pd.read_csv(\"/Users/itaybendan/DirectIndexingBondIt/data/PriceVolume/AMZN.csv\")"
   ]
  },
  {
   "cell_type": "code",
   "execution_count": 21,
   "metadata": {},
   "outputs": [],
   "source": [
    "spy_pv.head()\n",
    "spy_returns  = spy_pv[\"Adjusted_close\"].pct_change()[-4000:]\n",
    "xom_returns  = xom_pv[\"Adjusted_close\"].pct_change()[-4000:]\n",
    "amzn_returns  = amzn_pv[\"Adjusted_close\"].pct_change()[-4000:]"
   ]
  },
  {
   "cell_type": "code",
   "execution_count": 22,
   "metadata": {},
   "outputs": [
    {
     "data": {
      "image/png": "[encoded data removed]",
      "text/plain": [
       "<Figure size 432x288 with 1 Axes>"
      ]
     },
     "metadata": {
      "needs_background": "light"
     },
     "output_type": "display_data"
    }
   ],
   "source": [
    "A1 = plt.hist(xom_returns, bins = 100)\n",
    "plt.show()"
   ]
  },
  {
   "cell_type": "code",
   "execution_count": 23,
   "metadata": {},
   "outputs": [],
   "source": [
    "spy_returns_l = list(spy_returns)\n",
    "spy_returns_l.sort()\n",
    "xom_returns_l = list(xom_returns)\n",
    "xom_returns_l.sort()\n",
    "amzn_returns_l = list(amzn_returns)\n",
    "amzn_returns_l.sort()"
   ]
  },
  {
   "cell_type": "code",
   "execution_count": 24,
   "metadata": {},
   "outputs": [
    {
     "data": {
      "text/plain": [
       "array([[1.        , 0.93199749],\n",
       "       [0.93199749, 1.        ]])"
      ]
     },
     "execution_count": 24,
     "metadata": {},
     "output_type": "execute_result"
    }
   ],
   "source": [
    "np.corrcoef(blm1,spy_returns_l)"
   ]
  },
  {
   "cell_type": "code",
   "execution_count": 25,
   "metadata": {},
   "outputs": [
    {
     "data": {
      "text/plain": [
       "array([[1.        , 0.94712002],\n",
       "       [0.94712002, 1.        ]])"
      ]
     },
     "execution_count": 25,
     "metadata": {},
     "output_type": "execute_result"
    }
   ],
   "source": [
    "np.corrcoef(blm1,xom_returns_l)"
   ]
  },
  {
   "cell_type": "code",
   "execution_count": 26,
   "metadata": {},
   "outputs": [
    {
     "data": {
      "text/plain": [
       "array([[1.        , 0.94046258],\n",
       "       [0.94046258, 1.        ]])"
      ]
     },
     "execution_count": 26,
     "metadata": {},
     "output_type": "execute_result"
    }
   ],
   "source": [
    "np.corrcoef(blm1,amzn_returns_l)"
   ]
  },
  {
   "cell_type": "code",
   "execution_count": 29,
   "metadata": {},
   "outputs": [],
   "source": [
    "Chy_l = list(Chy)\n",
    "Chy_l.sort()"
   ]
  },
  {
   "cell_type": "code",
   "execution_count": 30,
   "metadata": {},
   "outputs": [],
   "source": [
    "n_samp_chy = taking_ith_order(Chy_l,4000)"
   ]
  },
  {
   "cell_type": "code",
   "execution_count": 31,
   "metadata": {},
   "outputs": [
    {
     "data": {
      "text/plain": [
       "array([[1.        , 0.12086406],\n",
       "       [0.12086406, 1.        ]])"
      ]
     },
     "execution_count": 31,
     "metadata": {},
     "output_type": "execute_result"
    }
   ],
   "source": [
    "np.corrcoef(blm1,n_samp_chy)"
   ]
  },
  {
   "cell_type": "code",
   "execution_count": 41,
   "metadata": {},
   "outputs": [],
   "source": [
    "levy_samp_l = list(levy_samp)\n",
    "levy_samp_l.sort()\n",
    "n_samp_levy = taking_ith_order(levy_samp_l,4000)"
   ]
  },
  {
   "cell_type": "code",
   "execution_count": 42,
   "metadata": {},
   "outputs": [
    {
     "data": {
      "text/plain": [
       "array([[1.        , 0.05704176],\n",
       "       [0.05704176, 1.        ]])"
      ]
     },
     "execution_count": 42,
     "metadata": {},
     "output_type": "execute_result"
    }
   ],
   "source": [
    "np.corrcoef(blm1,n_samp_levy)"
   ]
  },
  {
   "cell_type": "code",
   "execution_count": 45,
   "metadata": {},
   "outputs": [
    {
     "data": {
      "text/plain": [
       "5.5733124137301015e+62"
      ]
     },
     "execution_count": 45,
     "metadata": {},
     "output_type": "execute_result"
    }
   ],
   "source": [
    "from scipy.stats import moment\n",
    "moment(levy_samp_l, moment=6)"
   ]
  },
  {
   "cell_type": "code",
   "execution_count": 47,
   "metadata": {},
   "outputs": [
    {
     "data": {
      "text/plain": [
       "8.02542628588533e+37"
      ]
     },
     "execution_count": 47,
     "metadata": {},
     "output_type": "execute_result"
    }
   ],
   "source": [
    "moment(Chy_l,moment = 6)"
   ]
  },
  {
   "cell_type": "code",
   "execution_count": 51,
   "metadata": {},
   "outputs": [
    {
     "data": {
      "text/plain": [
       "104921874.82799192"
      ]
     },
     "execution_count": 51,
     "metadata": {},
     "output_type": "execute_result"
    }
   ],
   "source": [
    "moment(blm1,moment = 20)"
   ]
  },
  {
   "cell_type": "code",
   "execution_count": 52,
   "metadata": {},
   "outputs": [],
   "source": [
    "from scipy.stats import kurtosis as scipy_kurtosis \n",
    "from sympy.stats import P, E, variance, std, Die, Normal, StudentT\n",
    "from sympy import Eq, simplify"
   ]
  },
  {
   "cell_type": "code",
   "execution_count": 53,
   "metadata": {},
   "outputs": [
    {
     "data": {
      "text/plain": [
       "-0.017610038525888605"
      ]
     },
     "execution_count": 53,
     "metadata": {},
     "output_type": "execute_result"
    }
   ],
   "source": [
    "scipy_kurtosis(blm1)"
   ]
  },
  {
   "cell_type": "code",
   "execution_count": 54,
   "metadata": {},
   "outputs": [
    {
     "data": {
      "text/plain": [
       "99993.8371000564"
      ]
     },
     "execution_count": 54,
     "metadata": {},
     "output_type": "execute_result"
    }
   ],
   "source": [
    "scipy_kurtosis(Chy_l)"
   ]
  },
  {
   "cell_type": "code",
   "execution_count": 55,
   "metadata": {},
   "outputs": [
    {
     "data": {
      "text/plain": [
       "98733.00508052106"
      ]
     },
     "execution_count": 55,
     "metadata": {},
     "output_type": "execute_result"
    }
   ],
   "source": [
    "scipy_kurtosis(levy_samp_l)"
   ]
  },
  {
   "cell_type": "code",
   "execution_count": 60,
   "metadata": {},
   "outputs": [],
   "source": [
    "np.std(blm1), np.std(Chy_l), np.std(levy_samp_l)\n",
    "s_l = np.std(levy_samp_l)\n",
    "s_c = np.std(Chy_l)"
   ]
  },
  {
   "cell_type": "code",
   "execution_count": 61,
   "metadata": {},
   "outputs": [],
   "source": [
    "levy_samp_m = [x*1./s_l for x in levy_samp_l]\n",
    "cauchy_samp_m = [x* 1./s_c for x in Chy_l]"
   ]
  },
  {
   "cell_type": "code",
   "execution_count": 63,
   "metadata": {},
   "outputs": [
    {
     "data": {
      "text/plain": [
       "(0.9999999999999998, 0.9999999999999998)"
      ]
     },
     "execution_count": 63,
     "metadata": {},
     "output_type": "execute_result"
    }
   ],
   "source": [
    "np.std(levy_samp_m), np.std(cauchy_samp_m)"
   ]
  },
  {
   "cell_type": "code",
   "execution_count": 66,
   "metadata": {},
   "outputs": [
    {
     "data": {
      "text/plain": [
       "(99996.83710005635, 98736.005080521)"
      ]
     },
     "execution_count": 66,
     "metadata": {},
     "output_type": "execute_result"
    }
   ],
   "source": [
    "moment(cauchy_samp_m,moment = 4), moment(levy_samp_m,moment = 4)"
   ]
  },
  {
   "cell_type": "code",
   "execution_count": 67,
   "metadata": {},
   "outputs": [],
   "source": [
    "from sympy.stats import P, E, variance, std, Die, Normal, StudentT"
   ]
  },
  {
   "cell_type": "code",
   "execution_count": 93,
   "metadata": {},
   "outputs": [
    {
     "data": {
      "text/plain": [
       "1e-05"
      ]
     },
     "execution_count": 93,
     "metadata": {},
     "output_type": "execute_result"
    }
   ],
   "source": [
    "len([x for x in cauchy_samp_m if abs(x) > 2])/float(len(cauchy_samp_m))"
   ]
  },
  {
   "cell_type": "code",
   "execution_count": 92,
   "metadata": {},
   "outputs": [
    {
     "data": {
      "text/plain": [
       "2e-05"
      ]
     },
     "execution_count": 92,
     "metadata": {},
     "output_type": "execute_result"
    }
   ],
   "source": [
    "len([x for x in levy_samp_m if abs(x) > 2])/float(len(levy_samp_m))"
   ]
  },
  {
   "cell_type": "code",
   "execution_count": 86,
   "metadata": {},
   "outputs": [
    {
     "data": {
      "text/plain": [
       "0.9999999999999998"
      ]
     },
     "execution_count": 86,
     "metadata": {},
     "output_type": "execute_result"
    }
   ],
   "source": [
    "np.std(cauchy_samp_m)"
   ]
  },
  {
   "cell_type": "code",
   "execution_count": 97,
   "metadata": {},
   "outputs": [
    {
     "data": {
      "text/plain": [
       "0.9319974911328509"
      ]
     },
     "execution_count": 97,
     "metadata": {},
     "output_type": "execute_result"
    }
   ],
   "source": [
    "ShapiroFranciaCorrelation(spy_returns_l)"
   ]
  },
  {
   "cell_type": "code",
   "execution_count": null,
   "metadata": {},
   "outputs": [],
   "source": []
  }
 ],
 "metadata": {
  "kernelspec": {
   "display_name": "Python 3",
   "language": "python",
   "name": "python3"
  },
  "language_info": {
   "codemirror_mode": {
    "name": "ipython",
    "version": 3
   },
   "file_extension": ".py",
   "mimetype": "text/x-python",
   "name": "python",
   "nbconvert_exporter": "python",
   "pygments_lexer": "ipython3",
   "version": "3.7.6"
  }
 },
 "nbformat": 4,
 "nbformat_minor": 4
}
